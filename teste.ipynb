{
 "cells": [
  {
   "cell_type": "code",
   "execution_count": 16,
   "metadata": {},
   "outputs": [],
   "source": [
    "import pandas as pd"
   ]
  },
  {
   "cell_type": "code",
   "execution_count": 17,
   "metadata": {},
   "outputs": [],
   "source": [
    "df = pd.read_html('https://www2.susep.gov.br/menuestatistica/RankRoubo/resp_menu1.asp', header = 0, thousands= '.', decimal = ',')\n",
    "dados = df[0]"
   ]
  },
  {
   "cell_type": "code",
   "execution_count": 59,
   "metadata": {},
   "outputs": [
    {
     "data": {
      "text/plain": [
       "33991.38598137024"
      ]
     },
     "execution_count": 59,
     "metadata": {},
     "output_type": "execute_result"
    }
   ],
   "source": [
    "dados.rename(columns= {'Modelo': 'Modelo', '(*) Índice de Roubos/Furtos (%)': 'Indice_Roubo', 'Veículos Expostos': 'Veiculos_Expostos', 'N° de Sinistros': 'Sinistros'}, inplace= True)\n",
    "dados['Sinistros'] = dados['Sinistros'].astype(int)\n",
    "dados.sort_values(by= ['Indice_Roubo'], ascending= False,inplace = True)\n",
    "dados_fil = dados[(dados['Veiculos_Expostos'] >= (1.5 * (dados['Veiculos_Expostos'].quantile(0.25) - (dados['Veiculos_Expostos'].quantile(0.75)-dados['Veiculos_Expostos'].quantile(0.25)))))]\n",
    "dados_fil\n",
    "# média = 13879\n"
   ]
  },
  {
   "cell_type": "code",
   "execution_count": null,
   "metadata": {},
   "outputs": [],
   "source": []
  }
 ],
 "metadata": {
  "kernelspec": {
   "display_name": "Python 3",
   "language": "python",
   "name": "python3"
  },
  "language_info": {
   "codemirror_mode": {
    "name": "ipython",
    "version": 3
   },
   "file_extension": ".py",
   "mimetype": "text/x-python",
   "name": "python",
   "nbconvert_exporter": "python",
   "pygments_lexer": "ipython3",
   "version": "3.9.13"
  },
  "orig_nbformat": 4
 },
 "nbformat": 4,
 "nbformat_minor": 2
}
