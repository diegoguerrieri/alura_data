{
 "cells": [
  {
   "attachments": {},
   "cell_type": "markdown",
   "metadata": {},
   "source": [
    "* Importando o Numpy"
   ]
  },
  {
   "cell_type": "code",
   "execution_count": 2,
   "metadata": {},
   "outputs": [],
   "source": [
    "import numpy as np"
   ]
  },
  {
   "attachments": {},
   "cell_type": "markdown",
   "metadata": {},
   "source": [
    "* Preparando a massa de dados"
   ]
  },
  {
   "cell_type": "code",
   "execution_count": 3,
   "metadata": {},
   "outputs": [],
   "source": [
    "ids = np.arange(1, 126, 1, dtype=int)\n",
    "idades = np.random.randint(low= 18, high= 126, size= 125, dtype= int)\n",
    "lista_sexo = np.array(['M', 'F'])\n",
    "sexo = np.random.choice(lista_sexo, size= 125)\n",
    "lista_estados_civis = np.array(['solteiro', 'casado', 'divorciado', 'viuvo'])\n",
    "estados_civis = np.random.choice(lista_estados_civis, size= 125)\n",
    "sinistros = np.random.randint(low= 0, high= 2, size= 125, dtype= int)\n",
    "premios = np.around(np.random.random(size=125) * 10000, 2)"
   ]
  },
  {
   "attachments": {},
   "cell_type": "markdown",
   "metadata": {},
   "source": [
    "* Filtrando clientes com idade maior do que 30 anos"
   ]
  },
  {
   "cell_type": "code",
   "execution_count": 4,
   "metadata": {},
   "outputs": [
    {
     "data": {
      "text/plain": [
       "105"
      ]
     },
     "execution_count": 4,
     "metadata": {},
     "output_type": "execute_result"
    }
   ],
   "source": [
    "qtd_maior_30 = np.size(idades[idades>30])\n",
    "qtd_maior_30"
   ]
  },
  {
   "attachments": {},
   "cell_type": "markdown",
   "metadata": {},
   "source": [
    "* Clientes sem sinistros e que pagam prêmio superior a mil"
   ]
  },
  {
   "cell_type": "code",
   "execution_count": 5,
   "metadata": {},
   "outputs": [
    {
     "data": {
      "text/plain": [
       "114"
      ]
     },
     "execution_count": 5,
     "metadata": {},
     "output_type": "execute_result"
    }
   ],
   "source": [
    "dados = np.column_stack((sinistros, premios))\n",
    "\n",
    "filtrado = []\n",
    "\n",
    "# for filtro in range(0, len(dados)):\n",
    "#     if dados[filtro][0] == 0 and dados[filtro][1] > 1000:\n",
    "#         filtrado.append(filtro)\n",
    "    \n",
    "\n",
    "# for filtro in dados: \n",
    "#     if (filtro[0] == 0 and filtro[1] > 1000):\n",
    "#         filtrado.append([filtro])\n",
    "\n",
    "filtrado = [filtro for filtro in dados if (filtro[0] == 0 and filtro[1] > 1000)]\n",
    "\n",
    "tam = np.size(filtrado)\n",
    "tam\n",
    "# tamanho = np.size(filtro)\n",
    "# tamanho\n",
    "\n"
   ]
  },
  {
   "attachments": {},
   "cell_type": "markdown",
   "metadata": {},
   "source": [
    "* Classificação por faixa etária"
   ]
  },
  {
   "cell_type": "code",
   "execution_count": 6,
   "metadata": {},
   "outputs": [
    {
     "data": {
      "text/plain": [
       "['Faixa etária 18-30: 50',\n",
       " 'Faixa etária 31-45: 18',\n",
       " 'Faixa etária 46-60: 19',\n",
       " 'Faixa etária mais de 60: 38']"
      ]
     },
     "execution_count": 6,
     "metadata": {},
     "output_type": "execute_result"
    }
   ],
   "source": [
    "clientes = np.column_stack((ids, idades, sexo, estados_civis, sinistros, premios))\n",
    "faixas = np.digitize(clientes[ : , 1], [31, 46, 61])\n",
    "faixas_desc = ['Faixa etária 18-30', 'Faixa etária 31-45', 'Faixa etária 46-60', 'Faixa etária mais de 60']\n",
    "clientes_por_faixa = [f'{faixas_desc[i]}: ' + str(np.size(faixas[faixas == i])) for i in range(len(faixas_desc))]\n",
    "clientes_por_faixa\n",
    "# vetor = [11, 20, 30, 31, 40, 45]\n",
    "# np.digitize(vetor, [31, 45])\n",
    "\n"
   ]
  },
  {
   "attachments": {},
   "cell_type": "markdown",
   "metadata": {},
   "source": [
    "* Prêmio médio por estado civil"
   ]
  },
  {
   "cell_type": "code",
   "execution_count": 7,
   "metadata": {},
   "outputs": [
    {
     "data": {
      "text/plain": [
       "['solteiro: 4817.41',\n",
       " 'casado: 5141.16',\n",
       " 'divorciado: 4422.56',\n",
       " 'viuvo: 4188.32']"
      ]
     },
     "execution_count": 7,
     "metadata": {},
     "output_type": "execute_result"
    }
   ],
   "source": [
    "clientes\n",
    "lista_estados_civis\n",
    "# np.mean(np.float32(clientes[clientes[:, 3] == 'solteiro', 5]))\n",
    "# np.mean(clientes[clientes[ : , 3] == 'solteiro', 5])\n",
    "pm_por_estado = [f'{lista_estados_civis[i]}: ' + str(np.round(np.mean(np.float32(clientes[clientes[ : , 3] == lista_estados_civis[i], 5])),2)) for i in range(len(lista_estados_civis))]\n",
    "pm_por_estado"
   ]
  },
  {
   "attachments": {},
   "cell_type": "markdown",
   "metadata": {},
   "source": [
    "* Premio acima da média"
   ]
  },
  {
   "cell_type": "code",
   "execution_count": 8,
   "metadata": {},
   "outputs": [
    {
     "data": {
      "text/plain": [
       "array([['3', '68', 'F', 'viuvo', '1', '9038.84'],\n",
       "       ['5', '113', 'F', 'viuvo', '1', '8532.43'],\n",
       "       ['6', '107', 'F', 'divorciado', '0', '6248.35'],\n",
       "       ['10', '121', 'F', 'casado', '0', '7939.01'],\n",
       "       ['11', '24', 'M', 'viuvo', '0', '9531.54'],\n",
       "       ['12', '72', 'F', 'casado', '0', '5324.71'],\n",
       "       ['14', '80', 'F', 'divorciado', '0', '9072.42'],\n",
       "       ['15', '115', 'M', 'casado', '0', '8186.41'],\n",
       "       ['17', '29', 'M', 'casado', '1', '8127.05'],\n",
       "       ['24', '120', 'F', 'divorciado', '0', '6385.11'],\n",
       "       ['26', '18', 'F', 'divorciado', '0', '7438.74'],\n",
       "       ['27', '112', 'F', 'viuvo', '1', '7134.3'],\n",
       "       ['28', '28', 'M', 'divorciado', '1', '8123.58'],\n",
       "       ['29', '68', 'F', 'viuvo', '1', '5263.72'],\n",
       "       ['33', '117', 'F', 'divorciado', '1', '5681.61'],\n",
       "       ['34', '85', 'M', 'divorciado', '0', '7351.48'],\n",
       "       ['35', '123', 'M', 'solteiro', '1', '6206.75'],\n",
       "       ['38', '108', 'F', 'solteiro', '1', '5949.0'],\n",
       "       ['39', '125', 'M', 'viuvo', '0', '9871.41'],\n",
       "       ['41', '55', 'F', 'viuvo', '1', '8767.22'],\n",
       "       ['42', '81', 'M', 'solteiro', '1', '6864.22'],\n",
       "       ['47', '68', 'F', 'divorciado', '1', '8984.94'],\n",
       "       ['48', '110', 'F', 'solteiro', '0', '5129.38'],\n",
       "       ['49', '55', 'M', 'divorciado', '0', '4699.18'],\n",
       "       ['51', '106', 'M', 'divorciado', '0', '7063.65'],\n",
       "       ['53', '104', 'M', 'viuvo', '0', '8041.01'],\n",
       "       ['55', '40', 'M', 'divorciado', '1', '8361.5'],\n",
       "       ['58', '110', 'M', 'solteiro', '0', '7403.05'],\n",
       "       ['59', '43', 'F', 'solteiro', '1', '6198.82'],\n",
       "       ['62', '121', 'F', 'casado', '0', '9939.76'],\n",
       "       ['63', '31', 'M', 'casado', '0', '4727.71'],\n",
       "       ['64', '121', 'M', 'divorciado', '0', '5985.53'],\n",
       "       ['66', '43', 'F', 'solteiro', '1', '8624.65'],\n",
       "       ['70', '48', 'F', 'divorciado', '0', '6775.71'],\n",
       "       ['73', '84', 'F', 'casado', '0', '8805.27'],\n",
       "       ['74', '67', 'M', 'viuvo', '1', '5660.83'],\n",
       "       ['75', '59', 'F', 'casado', '0', '6415.55'],\n",
       "       ['76', '38', 'F', 'solteiro', '1', '7907.49'],\n",
       "       ['77', '51', 'M', 'casado', '1', '7066.28'],\n",
       "       ['82', '53', 'F', 'viuvo', '1', '4698.6'],\n",
       "       ['83', '123', 'M', 'solteiro', '0', '4806.34'],\n",
       "       ['84', '91', 'M', 'casado', '0', '6772.47'],\n",
       "       ['86', '62', 'F', 'viuvo', '1', '7606.45'],\n",
       "       ['89', '119', 'F', 'casado', '0', '8082.53'],\n",
       "       ['90', '66', 'F', 'casado', '0', '7395.39'],\n",
       "       ['91', '22', 'M', 'viuvo', '0', '8269.96'],\n",
       "       ['93', '119', 'F', 'solteiro', '1', '5382.15'],\n",
       "       ['97', '65', 'F', 'solteiro', '0', '9047.07'],\n",
       "       ['102', '44', 'M', 'viuvo', '1', '7056.52'],\n",
       "       ['104', '49', 'M', 'solteiro', '1', '4696.62'],\n",
       "       ['105', '47', 'F', 'casado', '0', '9451.13'],\n",
       "       ['108', '19', 'F', 'solteiro', '1', '6233.8'],\n",
       "       ['109', '29', 'F', 'solteiro', '0', '7602.52'],\n",
       "       ['110', '105', 'F', 'casado', '0', '7521.64'],\n",
       "       ['112', '95', 'F', 'solteiro', '1', '5735.55'],\n",
       "       ['116', '26', 'F', 'casado', '0', '7464.8'],\n",
       "       ['119', '28', 'M', 'casado', '0', '6680.79'],\n",
       "       ['121', '62', 'M', 'casado', '0', '7001.23'],\n",
       "       ['122', '37', 'M', 'viuvo', '1', '9141.02'],\n",
       "       ['124', '33', 'M', 'solteiro', '0', '5523.52'],\n",
       "       ['125', '19', 'M', 'viuvo', '1', '8260.46']], dtype='<U32')"
      ]
     },
     "execution_count": 8,
     "metadata": {},
     "output_type": "execute_result"
    }
   ],
   "source": [
    "acima_media = clientes[np.round(np.float32(clientes[: , 5]), 2) > np.round(np.mean(np.float32(clientes[: , 5])), 2)]\n",
    "acima_media"
   ]
  }
 ],
 "metadata": {
  "kernelspec": {
   "display_name": "Python 3",
   "language": "python",
   "name": "python3"
  },
  "language_info": {
   "codemirror_mode": {
    "name": "ipython",
    "version": 3
   },
   "file_extension": ".py",
   "mimetype": "text/x-python",
   "name": "python",
   "nbconvert_exporter": "python",
   "pygments_lexer": "ipython3",
   "version": "3.9.13"
  },
  "orig_nbformat": 4
 },
 "nbformat": 4,
 "nbformat_minor": 2
}
