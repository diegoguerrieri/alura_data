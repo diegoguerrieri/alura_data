{
 "cells": [
  {
   "attachments": {},
   "cell_type": "markdown",
   "metadata": {},
   "source": [
    "* Importando o Numpy"
   ]
  },
  {
   "cell_type": "code",
   "execution_count": 1,
   "metadata": {},
   "outputs": [],
   "source": [
    "import numpy as np"
   ]
  },
  {
   "attachments": {},
   "cell_type": "markdown",
   "metadata": {},
   "source": [
    "* Preparando a massa de dados"
   ]
  },
  {
   "cell_type": "code",
   "execution_count": 2,
   "metadata": {},
   "outputs": [],
   "source": [
    "ids = np.arange(1, 126, 1, dtype=int)\n",
    "idades = np.random.randint(low= 18, high= 126, size= 125, dtype= int)\n",
    "lista_sexo = np.array(['M', 'F'])\n",
    "sexo = np.random.choice(lista_sexo, size= 125)\n",
    "lista_estados_civis = np.array(['solteiro', 'casado', 'divorciado', 'viuvo'])\n",
    "estados_civis = np.random.choice(lista_estados_civis, size= 125)\n",
    "sinistros = np.random.randint(low= 0, high= 2, size= 125, dtype= int)\n",
    "premios = np.around(np.random.random(size=125) * 10000, 2)"
   ]
  },
  {
   "attachments": {},
   "cell_type": "markdown",
   "metadata": {},
   "source": [
    "* Filtrando clientes com idade maior do que 30 anos"
   ]
  },
  {
   "cell_type": "code",
   "execution_count": 4,
   "metadata": {},
   "outputs": [
    {
     "data": {
      "text/plain": [
       "array([ 49, 110, 117,  75,  52,  33,  32, 103,  85,  42,  87, 105,  90,\n",
       "        56,  75,  39,  39,  46,  48,  56, 109, 105,  89,  80,  59,  60,\n",
       "        72,  59,  52, 121,  46,  85,  37,  46,  42,  62,  55,  42,  49,\n",
       "        37, 124, 109, 123, 111,  83,  94,  60,  91,  95,  83,  68,  38,\n",
       "        31,  32,  43, 108, 110,  37,  64,  39,  83, 109, 107,  54,  79,\n",
       "        65,  50,  75,  58, 104, 121, 124,  75,  39, 118, 113, 108,  65,\n",
       "        80,  47,  64,  49,  92, 102,  49,  69,  92,  94,  70,  73,  36,\n",
       "        64,  90, 104,  94,  39, 114,  64,  59,  84,  71,  86,  48,  40,\n",
       "        70,  38,  55,  79,  62,  59,  47,  32, 112,  61, 115])"
      ]
     },
     "execution_count": 4,
     "metadata": {},
     "output_type": "execute_result"
    }
   ],
   "source": [
    "qtd_maior_30 = np.size(idades[idades>30])\n",
    "qtd_maior_30\n",
    "idades[idades > 30]\n"
   ]
  },
  {
   "attachments": {},
   "cell_type": "markdown",
   "metadata": {},
   "source": [
    "* Clientes sem sinistros e que pagam prêmio superior a mil"
   ]
  },
  {
   "cell_type": "code",
   "execution_count": 5,
   "metadata": {},
   "outputs": [
    {
     "data": {
      "text/plain": [
       "126"
      ]
     },
     "execution_count": 5,
     "metadata": {},
     "output_type": "execute_result"
    }
   ],
   "source": [
    "dados = np.column_stack((sinistros, premios))\n",
    "\n",
    "filtrado = []\n",
    "\n",
    "# for filtro in range(0, len(dados)):\n",
    "#     if dados[filtro][0] == 0 and dados[filtro][1] > 1000:\n",
    "#         filtrado.append(filtro)\n",
    "    \n",
    "\n",
    "# for filtro in dados: \n",
    "#     if (filtro[0] == 0 and filtro[1] > 1000):\n",
    "#         filtrado.append([filtro])\n",
    "\n",
    "filtrado = [filtro for filtro in dados if (filtro[0] == 0 and filtro[1] > 1000)]\n",
    "\n",
    "tam = np.size(filtrado)\n",
    "tam\n",
    "# tamanho = np.size(filtro)\n",
    "# tamanho\n",
    "\n"
   ]
  },
  {
   "attachments": {},
   "cell_type": "markdown",
   "metadata": {},
   "source": [
    "* Classificação por faixa etária"
   ]
  },
  {
   "cell_type": "code",
   "execution_count": 60,
   "metadata": {},
   "outputs": [
    {
     "data": {
      "text/plain": [
       "array([0, 0, 0, 1, 1, 2], dtype=int64)"
      ]
     },
     "execution_count": 60,
     "metadata": {},
     "output_type": "execute_result"
    }
   ],
   "source": [
    "clientes = np.column_stack((ids, idades, sexo, estados_civis, sinistros, premios))\n",
    "faixas = np.digitize(clientes[ : , 1], [31, 46, 61])\n",
    "faixas_desc = ['Faixa etária 18-30', 'Faixa etária 31-45', 'Faixa etária 46-60', 'Faixa etária mais de 60']\n",
    "clientes_por_faixa = [f'{faixas_desc[i]}: ' + str(np.size(faixas[faixas == i])) for i in range(len(faixas_desc))]\n",
    "clientes_por_faixa\n",
    "# vetor = [11, 20, 30, 31, 40, 45]\n",
    "# np.digitize(vetor, [31, 45])\n",
    "\n"
   ]
  },
  {
   "attachments": {},
   "cell_type": "markdown",
   "metadata": {},
   "source": [
    "* Prêmio médio por estado civil"
   ]
  },
  {
   "cell_type": "code",
   "execution_count": 55,
   "metadata": {},
   "outputs": [
    {
     "data": {
      "text/plain": [
       "['solteiro: 4729.81',\n",
       " 'casado: 5639.13',\n",
       " 'divorciado: 4814.36',\n",
       " 'viuvo: 5006.83']"
      ]
     },
     "execution_count": 55,
     "metadata": {},
     "output_type": "execute_result"
    }
   ],
   "source": [
    "clientes\n",
    "lista_estados_civis\n",
    "# np.mean(np.float32(clientes[clientes[:, 3] == 'solteiro', 5]))\n",
    "# np.mean(clientes[clientes[ : , 3] == 'solteiro', 5])\n",
    "pm_por_estado = [f'{lista_estados_civis[i]}: ' + str(np.round(np.mean(np.float32(clientes[clientes[ : , 3] == lista_estados_civis[i], 5])),2)) for i in range(len(lista_estados_civis))]\n",
    "pm_por_estado"
   ]
  },
  {
   "attachments": {},
   "cell_type": "markdown",
   "metadata": {},
   "source": [
    "* Premio acima da média"
   ]
  },
  {
   "cell_type": "code",
   "execution_count": 59,
   "metadata": {},
   "outputs": [
    {
     "data": {
      "text/plain": [
       "64"
      ]
     },
     "execution_count": 59,
     "metadata": {},
     "output_type": "execute_result"
    }
   ],
   "source": [
    "acima_media = clientes[np.round(np.float32(clientes[: , 5]), 2) > np.round(np.mean(np.float32(clientes[: , 5])), 2)]\n",
    "acima_media"
   ]
  }
 ],
 "metadata": {
  "kernelspec": {
   "display_name": "Python 3",
   "language": "python",
   "name": "python3"
  },
  "language_info": {
   "codemirror_mode": {
    "name": "ipython",
    "version": 3
   },
   "file_extension": ".py",
   "mimetype": "text/x-python",
   "name": "python",
   "nbconvert_exporter": "python",
   "pygments_lexer": "ipython3",
   "version": "3.9.13"
  },
  "orig_nbformat": 4
 },
 "nbformat": 4,
 "nbformat_minor": 2
}
