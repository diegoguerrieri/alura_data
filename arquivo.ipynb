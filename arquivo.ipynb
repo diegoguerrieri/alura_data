{
 "cells": [
  {
   "attachments": {},
   "cell_type": "markdown",
   "metadata": {},
   "source": [
    "* Importando o Numpy"
   ]
  },
  {
   "cell_type": "code",
   "execution_count": null,
   "metadata": {},
   "outputs": [],
   "source": [
    "import numpy as np"
   ]
  },
  {
   "attachments": {},
   "cell_type": "markdown",
   "metadata": {},
   "source": [
    "* Preparando a massa de dados"
   ]
  },
  {
   "cell_type": "code",
   "execution_count": null,
   "metadata": {},
   "outputs": [],
   "source": [
    "ids = np.arange(1, 126, 1, dtype=int)\n",
    "idades = np.random.randint(low= 18, high= 126, size= 125, dtype= int)\n",
    "lista_sexo = np.array(['M', 'F'])\n",
    "sexo = np.random.choice(lista_sexo, size= 125)\n",
    "lista_estados_civis = np.array(['solteiro', 'casado', 'divorciado', 'viuvo'])\n",
    "estados_civis = np.random.choice(lista_estados_civis, size= 125)\n",
    "sinistros = np.random.randint(low= 0, high= 2, size= 125, dtype= int)\n",
    "premios = np.around(np.random.random(size=125) * 10000, 2)"
   ]
  },
  {
   "attachments": {},
   "cell_type": "markdown",
   "metadata": {},
   "source": [
    "* Clientes maiores que 30 anos"
   ]
  },
  {
   "cell_type": "code",
   "execution_count": null,
   "metadata": {},
   "outputs": [],
   "source": [
    "qtd_maior_30 = np.size(idades[idades>30])\n",
    "qtd_maior_30"
   ]
  },
  {
   "attachments": {},
   "cell_type": "markdown",
   "metadata": {},
   "source": [
    "* Clientes sem sinistros e que pagam prêmio superior a mil"
   ]
  },
  {
   "cell_type": "code",
   "execution_count": null,
   "metadata": {},
   "outputs": [],
   "source": [
    "dados = np.column_stack((sinistros, premios))\n",
    "dados[1][0] == 0\n",
    "filtrado = []\n",
    "\n",
    "# for filtro in range(0, len(dados)):\n",
    "#     if dados[filtro][0] == 0 and dados[filtro][1] > 1000:\n",
    "#         filtrado.append(filtro)\n",
    "    \n",
    "\n",
    "# for filtro in dados: \n",
    "#     if (filtro[0] == 0 and filtro[1] > 1000):\n",
    "#         filtrado.append([filtro])\n",
    "\n",
    "filtrado = [filtro for filtro in dados if (filtro[0] == 0 and filtro[1] > 1000)]\n",
    "\n",
    "tam = np.size(filtrado)\n",
    "tam\n",
    "# tamanho = np.size(filtro)\n",
    "# tamanho\n",
    "\n"
   ]
  },
  {
   "attachments": {},
   "cell_type": "markdown",
   "metadata": {},
   "source": [
    "* Classificação por faixa etária"
   ]
  }
 ],
 "metadata": {
  "language_info": {
   "name": "python"
  },
  "orig_nbformat": 4
 },
 "nbformat": 4,
 "nbformat_minor": 2
}
