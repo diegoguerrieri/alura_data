{
 "cells": [
  {
   "attachments": {},
   "cell_type": "markdown",
   "metadata": {},
   "source": [
    "* Importando o Numpy"
   ]
  },
  {
   "cell_type": "code",
   "execution_count": 2,
   "metadata": {},
   "outputs": [],
   "source": [
    "import numpy as np"
   ]
  },
  {
   "attachments": {},
   "cell_type": "markdown",
   "metadata": {},
   "source": [
    "* Preparando a massa de dados"
   ]
  },
  {
   "cell_type": "code",
   "execution_count": 3,
   "metadata": {},
   "outputs": [],
   "source": [
    "ids = np.arange(1, 126, 1, dtype=int)\n",
    "idades = np.random.randint(low= 18, high= 126, size= 125, dtype= int)\n",
    "lista_sexo = np.array(['M', 'F'])\n",
    "sexo = np.random.choice(lista_sexo, size= 125)\n",
    "lista_estados_civis = np.array(['solteiro', 'casado', 'divorciado', 'viuvo'])\n",
    "estados_civis = np.random.choice(lista_estados_civis, size= 125)\n",
    "sinistros = np.random.randint(low= 0, high= 2, size= 125, dtype= int)\n",
    "premios = np.around(np.random.random(size=125) * 10000, 2)"
   ]
  },
  {
   "attachments": {},
   "cell_type": "markdown",
   "metadata": {},
   "source": [
    "* Clientes maiores que 30 anos"
   ]
  },
  {
   "cell_type": "code",
   "execution_count": 4,
   "metadata": {},
   "outputs": [
    {
     "data": {
      "text/plain": [
       "108"
      ]
     },
     "execution_count": 4,
     "metadata": {},
     "output_type": "execute_result"
    }
   ],
   "source": [
    "qtd_maior_30 = np.size(idades[idades>30])\n",
    "qtd_maior_30"
   ]
  },
  {
   "attachments": {},
   "cell_type": "markdown",
   "metadata": {},
   "source": [
    "* Clientes sem sinistros e que pagam prêmio superior a mil"
   ]
  },
  {
   "cell_type": "code",
   "execution_count": 5,
   "metadata": {},
   "outputs": [
    {
     "data": {
      "text/plain": [
       "126"
      ]
     },
     "execution_count": 5,
     "metadata": {},
     "output_type": "execute_result"
    }
   ],
   "source": [
    "dados = np.column_stack((sinistros, premios))\n",
    "\n",
    "filtrado = []\n",
    "\n",
    "# for filtro in range(0, len(dados)):\n",
    "#     if dados[filtro][0] == 0 and dados[filtro][1] > 1000:\n",
    "#         filtrado.append(filtro)\n",
    "    \n",
    "\n",
    "# for filtro in dados: \n",
    "#     if (filtro[0] == 0 and filtro[1] > 1000):\n",
    "#         filtrado.append([filtro])\n",
    "\n",
    "filtrado = [filtro for filtro in dados if (filtro[0] == 0 and filtro[1] > 1000)]\n",
    "\n",
    "tam = np.size(filtrado)\n",
    "tam\n",
    "# tamanho = np.size(filtro)\n",
    "# tamanho\n",
    "\n"
   ]
  },
  {
   "attachments": {},
   "cell_type": "markdown",
   "metadata": {},
   "source": [
    "* Classificação por faixa etária"
   ]
  },
  {
   "cell_type": "code",
   "execution_count": 45,
   "metadata": {},
   "outputs": [
    {
     "data": {
      "text/plain": [
       "['Faixa etária 18-30: 41',\n",
       " 'Faixa etária 31-45: 14',\n",
       " 'Faixa etária 46-60: 19',\n",
       " 'Faixa etária mais de 60: 51']"
      ]
     },
     "execution_count": 45,
     "metadata": {},
     "output_type": "execute_result"
    }
   ],
   "source": [
    "clientes = np.column_stack((ids, idades, sexo, estados_civis, sinistros, premios))\n",
    "faixas = np.digitize(clientes[ : , 1], [31, 46, 61])\n",
    "faixas_desc = ['Faixa etária 18-30', 'Faixa etária 31-45', 'Faixa etária 46-60', 'Faixa etária mais de 60']\n",
    "clientes_por_faixa = [f'{faixas_desc[i]}: ' + str(np.size(faixas[faixas == i])) for i in range(len(faixas_desc))]\n",
    "clientes_por_faixa\n",
    "# vetor = [11, 20, 30, 31, 40, 45]\n",
    "# np.digitize(vetor, [31, 45])\n",
    "\n"
   ]
  },
  {
   "attachments": {},
   "cell_type": "markdown",
   "metadata": {},
   "source": [
    "* Prêmio médio por estado civil"
   ]
  },
  {
   "cell_type": "code",
   "execution_count": 55,
   "metadata": {},
   "outputs": [
    {
     "data": {
      "text/plain": [
       "['solteiro: 4729.81',\n",
       " 'casado: 5639.13',\n",
       " 'divorciado: 4814.36',\n",
       " 'viuvo: 5006.83']"
      ]
     },
     "execution_count": 55,
     "metadata": {},
     "output_type": "execute_result"
    }
   ],
   "source": [
    "clientes\n",
    "lista_estados_civis\n",
    "# np.mean(np.float32(clientes[clientes[:, 3] == 'solteiro', 5]))\n",
    "# np.mean(clientes[clientes[ : , 3] == 'solteiro', 5])\n",
    "pm_por_estado = [f'{lista_estados_civis[i]}: ' + str(np.round(np.mean(np.float32(clientes[clientes[ : , 3] == lista_estados_civis[i], 5])),2)) for i in range(len(lista_estados_civis))]\n",
    "pm_por_estado"
   ]
  },
  {
   "attachments": {},
   "cell_type": "markdown",
   "metadata": {},
   "source": [
    "* Premio acima da média"
   ]
  },
  {
   "cell_type": "code",
   "execution_count": 59,
   "metadata": {},
   "outputs": [
    {
     "data": {
      "text/plain": [
       "64"
      ]
     },
     "execution_count": 59,
     "metadata": {},
     "output_type": "execute_result"
    }
   ],
   "source": [
    "acima_media = clientes[np.round(np.float32(clientes[: , 5]), 2) > np.round(np.mean(np.float32(clientes[: , 5])), 2)]\n",
    "acima_media"
   ]
  },
  {
   "cell_type": "code",
   "execution_count": null,
   "metadata": {},
   "outputs": [],
   "source": []
  }
 ],
 "metadata": {
  "language_info": {
   "name": "python"
  },
  "orig_nbformat": 4
 },
 "nbformat": 4,
 "nbformat_minor": 2
}
